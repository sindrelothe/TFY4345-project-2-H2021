{
 "cells": [
  {
   "cell_type": "code",
   "execution_count": 1,
   "metadata": {},
   "outputs": [],
   "source": [
    "from matplotlib import pyplot as plt\n",
    "import numpy as np\n",
    "from typing import List, Callable\n",
    "\n",
    "newparams = {'figure.figsize': (12, 6), 'axes.grid': False,\n",
    "             'lines.linewidth': 2,\n",
    "             'font.size': 15, 'mathtext.fontset': 'stix',\n",
    "             'font.family': 'STIXGeneral'}\n",
    "\n",
    "plt.rcParams.update(newparams)"
   ]
  },
  {
   "cell_type": "code",
   "execution_count": null,
   "metadata": {},
   "outputs": [],
   "source": [
    "# Funksjon som løser en 4 dimensjonal diffrensialligning ved hjelp av Runge-Kutta sin metode av 4. orden. returnerer en liste\n",
    "# med y verdier\n",
    "# Parametre:\n",
    "# F: funksjon som tar inn en liste med y verdier og en liste som y' skal lagres i\n",
    "# y0: initialverdier til problemet, liste med 4 verdier\n",
    "# h: lengden på tidssteg\n",
    "def Runge_Kutta4(F, y0: np.ndarray, h):\n",
    "    # Oppretter en matrise for å lagre midlertidige verdier\n",
    "    F_vec = np.zeros((4, 4))\n",
    "    \n",
    "    # Oppretter en matrise for å lagre y verdier\n",
    "    y_list = [y0]\n",
    "    \n",
    "    # Løkke for å lagre y verdier for alle tidsstegene\n",
    "    while y_list[-1][2] >= 0:\n",
    "        # Regner ut neste y verdi, og lagrer denne\n",
    "        F(y_list[-1], F_vec[:,0])\n",
    "        F(y_list[-1] + 0.5*h*F_vec[:,0], F_vec[:,1])\n",
    "        F(y_list[-1] + 0.5*h*F_vec[:,1], F_vec[:,2])\n",
    "        F(y_list[-1] + h*F_vec[:,2], F_vec[:,3])\n",
    "        \n",
    "        y_next = y_list[-1] + h*(1/6 * F_vec[:,0] + 1/3*F_vec[:,1] + 1/3 * F_vec[:,2]+1/6*F_vec[:,3])\n",
    "        y_list.append(y_next)\n",
    "    return np.array(y_list)\n",
    "\n",
    "def xl_function(y_list):\n",
    "    r = -y_list[-2, 2]/y_list[-1, 2]\n",
    "    return 1/(r+1) * (y_list[-2, 0] + r*y_list[-1, 0])\n",
    "\n",
    "def get_range(theta_list, v0, F_function, h, length_function = xl_function):\n",
    "    range_list = []\n",
    "    for theta in theta_list:\n",
    "        y0 = np.array([0, v0*np.cos(theta), 0, v0*np.sin(theta)])\n",
    "        y_list = Runge_Kutta4(F_function, y0, h)\n",
    "        range_list.append(length_function(y_list))\n",
    "    range_list = np.array(range_list)\n",
    "    \n",
    "    return range_list"
   ]
  }
 ],
 "metadata": {
  "interpreter": {
   "hash": "31f2aee4e71d21fbe5cf8b01ff0e069b9275f58929596ceb00d14d90e3e16cd6"
  },
  "kernelspec": {
   "display_name": "Python 3.6.9 64-bit",
   "name": "python3"
  },
  "language_info": {
   "codemirror_mode": {
    "name": "ipython",
    "version": 3
   },
   "file_extension": ".py",
   "mimetype": "text/x-python",
   "name": "python",
   "nbconvert_exporter": "python",
   "pygments_lexer": "ipython3",
   "version": "3.9.7"
  },
  "orig_nbformat": 4
 },
 "nbformat": 4,
 "nbformat_minor": 2
}
